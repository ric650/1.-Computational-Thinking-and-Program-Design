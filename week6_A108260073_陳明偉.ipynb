{
  "nbformat": 4,
  "nbformat_minor": 0,
  "metadata": {
    "colab": {
      "name": "week6-A108260073-陳明偉.ipynb",
      "provenance": [],
      "include_colab_link": true
    },
    "kernelspec": {
      "name": "python3",
      "display_name": "Python 3"
    }
  },
  "cells": [
    {
      "cell_type": "markdown",
      "metadata": {
        "id": "view-in-github",
        "colab_type": "text"
      },
      "source": [
        "<a href=\"https://colab.research.google.com/github/ric650/1.-Computational-Thinking-and-Program-Design/blob/master/week6_A108260073_%E9%99%B3%E6%98%8E%E5%81%89.ipynb\" target=\"_parent\"><img src=\"https://colab.research.google.com/assets/colab-badge.svg\" alt=\"Open In Colab\"/></a>"
      ]
    },
    {
      "cell_type": "code",
      "metadata": {
        "id": "HFExQBrdZ96C",
        "colab_type": "code",
        "colab": {
          "base_uri": "https://localhost:8080/",
          "height": 101
        },
        "outputId": "79e1a903-c4a4-4a68-ae5b-a961c54bf0db"
      },
      "source": [
        "第一次期中考成績=int(input(\"請輸入成績?\"))\n",
        "第二次期中考成績=int(input(\"請輸入成績?\"))\n",
        "期末考成績=int(input(\"請輸入成績?\"))\n",
        "\n",
        "總分= 第一次期中考成績+第二次期中考成績+期末考成績\n",
        "print('總成績為', 總分)\n",
        "平均=總分/3\n",
        "print('平均為',平均)"
      ],
      "execution_count": 18,
      "outputs": [
        {
          "output_type": "stream",
          "text": [
            "請輸入成績?75\n",
            "請輸入成績?80\n",
            "請輸入成績?65\n",
            "總成績為 220\n",
            "平均為 73.33333333333333\n"
          ],
          "name": "stdout"
        }
      ]
    },
    {
      "cell_type": "code",
      "metadata": {
        "id": "tK-2r5N7ayyP",
        "colab_type": "code",
        "colab": {
          "base_uri": "https://localhost:8080/",
          "height": 67
        },
        "outputId": "c1080400-4dc8-4972-e6c3-7e9b49a3f5fc"
      },
      "source": [
        "c=float(input(\"請輸入幾尺\"))\n",
        "c=float(input(\"請輸入幾吋\"))\n",
        "f=(5*12+8)*2.54\n",
        "print('轉化成', f)\n"
      ],
      "execution_count": 19,
      "outputs": [
        {
          "output_type": "stream",
          "text": [
            "請輸入幾尺5\n",
            "請輸入幾吋8\n",
            "轉化成 172.72\n"
          ],
          "name": "stdout"
        }
      ]
    },
    {
      "cell_type": "code",
      "metadata": {
        "id": "i7Wb5j_cffex",
        "colab_type": "code",
        "colab": {
          "base_uri": "https://localhost:8080/",
          "height": 50
        },
        "outputId": "ad3cd107-ee60-451f-8954-24efa6fb09b2"
      },
      "source": [
        "s=int(input(\"請輸入座號\"))\n",
        "a=s/5\n",
        "組別=int(a+1)\n",
        "print('總別為', 組別)"
      ],
      "execution_count": 20,
      "outputs": [
        {
          "output_type": "stream",
          "text": [
            "請輸入座號19\n",
            "總別為 4\n"
          ],
          "name": "stdout"
        }
      ]
    },
    {
      "cell_type": "code",
      "metadata": {
        "id": "AZNJziuNhK0e",
        "colab_type": "code",
        "colab": {
          "base_uri": "https://localhost:8080/",
          "height": 50
        },
        "outputId": "12ea96f6-3398-458e-9d0d-5858f8098fa3"
      },
      "source": [
        "飲料數量=int(input(\"輸入購買飲料的罐數\"))\n",
        "飲料一打=int(飲料數量/12)\n",
        "飲料個數=int(飲料數量-飲料一打*12)\n",
        "一打價格=飲料一打*200\n",
        "個數價格=飲料個數*20\n",
        "總價=一打價格+個數價格\n",
        "print('需花費', 總價)"
      ],
      "execution_count": 22,
      "outputs": [
        {
          "output_type": "stream",
          "text": [
            "輸入購買飲料的罐數30\n",
            "需花費 520\n"
          ],
          "name": "stdout"
        }
      ]
    },
    {
      "cell_type": "code",
      "metadata": {
        "id": "o07XViZzizTP",
        "colab_type": "code",
        "colab": {}
      },
      "source": [
        ""
      ],
      "execution_count": 0,
      "outputs": []
    },
    {
      "cell_type": "code",
      "metadata": {
        "id": "_E-v1VWIlKh9",
        "colab_type": "code",
        "colab": {}
      },
      "source": [
        ""
      ],
      "execution_count": 0,
      "outputs": []
    }
  ]
}