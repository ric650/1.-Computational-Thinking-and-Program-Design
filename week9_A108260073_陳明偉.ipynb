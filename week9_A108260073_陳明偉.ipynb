{
  "nbformat": 4,
  "nbformat_minor": 0,
  "metadata": {
    "colab": {
      "name": "week9-A108260073-陳明偉.ipynb",
      "provenance": [],
      "include_colab_link": true
    },
    "kernelspec": {
      "name": "python3",
      "display_name": "Python 3"
    }
  },
  "cells": [
    {
      "cell_type": "markdown",
      "metadata": {
        "id": "view-in-github",
        "colab_type": "text"
      },
      "source": [
        "<a href=\"https://colab.research.google.com/github/ric650/1.-Computational-Thinking-and-Program-Design/blob/master/week9_A108260073_%E9%99%B3%E6%98%8E%E5%81%89.ipynb\" target=\"_parent\"><img src=\"https://colab.research.google.com/assets/colab-badge.svg\" alt=\"Open In Colab\"/></a>"
      ]
    },
    {
      "cell_type": "code",
      "metadata": {
        "id": "lqz1GdQfgCIe",
        "colab_type": "code",
        "colab": {
          "base_uri": "https://localhost:8080/",
          "height": 51
        },
        "outputId": "2d320941-cc2b-4a41-d5be-ede587812b97"
      },
      "source": [
        "score=int(input('請輸入一個成績?'))\n",
        "if score >=60:\n",
        "  print('well done')"
      ],
      "execution_count": 4,
      "outputs": [
        {
          "output_type": "stream",
          "text": [
            "請輸入一個成績?88\n",
            "well done\n"
          ],
          "name": "stdout"
        }
      ]
    },
    {
      "cell_type": "code",
      "metadata": {
        "id": "o3xpv1k4iCR5",
        "colab_type": "code",
        "colab": {
          "base_uri": "https://localhost:8080/",
          "height": 51
        },
        "outputId": "731942e2-36d0-445b-c19b-cb9cf4abb8f7"
      },
      "source": [
        "score = int(input('請輸入一個成績?'))\n",
        "if score >=60:\n",
        "  print(有及格)\n",
        "else:\n",
        "  print('不及格') "
      ],
      "execution_count": 12,
      "outputs": [
        {
          "output_type": "stream",
          "text": [
            "請輸入一個成績?50\n",
            "不及格\n"
          ],
          "name": "stdout"
        }
      ]
    },
    {
      "cell_type": "code",
      "metadata": {
        "id": "Ego3i4bXgiWQ",
        "colab_type": "code",
        "colab": {
          "base_uri": "https://localhost:8080/",
          "height": 51
        },
        "outputId": "373fccda-d501-4d03-f6c4-a66b00de910f"
      },
      "source": [
        "score=int(input('請輸入一個成績?'))\n",
        "if score >=80:\n",
        "  print('非常好')\n",
        "elif score >=60:\n",
        "  print('不錯喔')\n",
        "else:\n",
        "  print('加油')    "
      ],
      "execution_count": 15,
      "outputs": [
        {
          "output_type": "stream",
          "text": [
            "請輸入一個成績?66\n",
            "不錯喔\n"
          ],
          "name": "stdout"
        }
      ]
    },
    {
      "cell_type": "code",
      "metadata": {
        "id": "sIA5eLQKhXd_",
        "colab_type": "code",
        "colab": {
          "base_uri": "https://localhost:8080/",
          "height": 68
        },
        "outputId": "4cdc15cd-6882-4c97-ae6a-a75148584982"
      },
      "source": [
        "x= float(input('請輸入該點x座標?'))\n",
        "y= float(input('請輸入該點y座標?'))\n",
        "if(x>0):\n",
        "  if(y>0):\n",
        "    print('該點在第一象限')\n",
        "  else:\n",
        "    print('該點在第四象限')\n",
        "else:\n",
        "  if(y>0):\n",
        "    print('該點在第二象限')\n",
        "  else:\n",
        "    print('該點在第三象限')\n",
        "\n",
        "\n"
      ],
      "execution_count": 16,
      "outputs": [
        {
          "output_type": "stream",
          "text": [
            "請輸入該點x座標?1\n",
            "請輸入該點y座標?1\n",
            "該點在第一象限\n"
          ],
          "name": "stdout"
        }
      ]
    },
    {
      "cell_type": "code",
      "metadata": {
        "id": "czsh6PDGl_WI",
        "colab_type": "code",
        "colab": {
          "base_uri": "https://localhost:8080/",
          "height": 51
        },
        "outputId": "32d8b3ca-142d-4570-a563-dfaf45cd7dff"
      },
      "source": [
        "cost = int(input('請輸入購買金額'))\n",
        "if cost >=2000:\n",
        "  print(cost*0.9)\n",
        "else:\n",
        "  print(cost)  \n"
      ],
      "execution_count": 17,
      "outputs": [
        {
          "output_type": "stream",
          "text": [
            "請輸入購買金額2000\n",
            "1800.0\n"
          ],
          "name": "stdout"
        }
      ]
    },
    {
      "cell_type": "code",
      "metadata": {
        "id": "6FmNYUIOmqKm",
        "colab_type": "code",
        "colab": {
          "base_uri": "https://localhost:8080/",
          "height": 51
        },
        "outputId": "db2846ab-6b72-4c30-ba8e-3bdf5eb070c4"
      },
      "source": [
        "num = int(input('請輸入⼀個整數？'))\n",
        "if num % 2 == 0: \n",
        " print(num, '為偶數')\n",
        "else:\n",
        " print(num, '為奇數')\n"
      ],
      "execution_count": 26,
      "outputs": [
        {
          "output_type": "stream",
          "text": [
            "請輸入⼀個整數？13\n",
            "13 為奇數\n"
          ],
          "name": "stdout"
        }
      ]
    },
    {
      "cell_type": "code",
      "metadata": {
        "id": "Sc2zRa2vnZGb",
        "colab_type": "code",
        "colab": {}
      },
      "source": [
        ""
      ],
      "execution_count": 0,
      "outputs": []
    }
  ]
}