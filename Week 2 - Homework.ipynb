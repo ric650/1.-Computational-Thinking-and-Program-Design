{
  "nbformat": 4,
  "nbformat_minor": 0,
  "metadata": {
    "colab": {
      "name": "Computational Thinking and Program Design.ipynb",
      "version": "0.3.2",
      "provenance": [],
      "include_colab_link": true
    },
    "kernelspec": {
      "name": "python3",
      "display_name": "Python 3"
    }
  },
  "cells": [
    {
      "cell_type": "markdown",
      "metadata": {
        "id": "view-in-github",
        "colab_type": "text"
      },
      "source": [
        "<a href=\"https://colab.research.google.com/github/HungHuaTien/1.-Computational-Thinking-and-Program-Design/blob/master/Week%202%20-%20Homework.ipynb\" target=\"_parent\"><img src=\"https://colab.research.google.com/assets/colab-badge.svg\" alt=\"Open In Colab\"/></a>"
      ]
    },
    {
      "cell_type": "code",
      "metadata": {
        "id": "z-uUQm7wAy8s",
        "colab_type": "code",
        "colab": {}
      },
      "source": [
        "print(\"Hello, everyone\")"
      ],
      "execution_count": 0,
      "outputs": []
    }
  ]
}