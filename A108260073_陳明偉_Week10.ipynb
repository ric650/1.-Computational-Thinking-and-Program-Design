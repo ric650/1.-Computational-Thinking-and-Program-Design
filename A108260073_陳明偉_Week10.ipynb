{
  "nbformat": 4,
  "nbformat_minor": 0,
  "metadata": {
    "colab": {
      "name": "A108260073-陳明偉-Week10.ipynb",
      "provenance": [],
      "include_colab_link": true
    },
    "kernelspec": {
      "name": "python3",
      "display_name": "Python 3"
    }
  },
  "cells": [
    {
      "cell_type": "markdown",
      "metadata": {
        "id": "view-in-github",
        "colab_type": "text"
      },
      "source": [
        "<a href=\"https://colab.research.google.com/github/ric650/1.-Computational-Thinking-and-Program-Design/blob/master/A108260073_%E9%99%B3%E6%98%8E%E5%81%89_Week10.ipynb\" target=\"_parent\"><img src=\"https://colab.research.google.com/assets/colab-badge.svg\" alt=\"Open In Colab\"/></a>"
      ]
    },
    {
      "cell_type": "code",
      "metadata": {
        "id": "1t_7HkcHXmVl",
        "colab_type": "code",
        "colab": {}
      },
      "source": [
        ""
      ],
      "execution_count": 0,
      "outputs": []
    },
    {
      "cell_type": "code",
      "metadata": {
        "id": "oqslTxNYj-Qh",
        "colab_type": "code",
        "colab": {
          "base_uri": "https://localhost:8080/",
          "height": 391
        },
        "outputId": "3881199d-c007-4228-df4a-b95d7aac071e"
      },
      "source": [
        "print(\"You are on a deserted island in a 2D world.\")\n",
        "print(\"Try to survive until rescue arrives!\")\n",
        "print(\"Available commands are in CAPITAL letters.\")\n",
        "print(\"Any other command exits the program\")\n",
        "print(\"First LOOK around...\")\n",
        "do = input(\":: \")\n",
        "if do == \"LOOK\":\n",
        "  print(\"You are stuck in a sand ditch.\")\n",
        "  print(\"Crawl out LEFT or RIGHT.\")\n",
        "  do = input(\":: \")\n",
        "  if do == \"LEFT\":\n",
        "    print(\"You see a STARFISH and a CRAB on the sand.\")\n",
        "    print(\"And you're hungry! Which do you eat?\")\n",
        "\n",
        "\n",
        "  do = input(\":: \") \n",
        "  if do == \"STARFISH\": \n",
        "    print(\"Oh no! You immediately don't feel well.\")\n",
        "    print(\"You do not survive :(\") \n",
        "  elif do == \"CRAB\": \n",
        "    print(\"Raw crab should be fine, right? YES or NO.\")\n",
        "\n",
        " \n",
        "  do = input(\":: \") \n",
        "  if do == \"YES\":\n",
        "   print(\"Ok, You eat it raw. Fingers crossed.\")\n",
        "   print(\"Food in your belly helps you see a TREE.\") \n",
        "\n",
        " \n",
        "  do = input(\":: \") \n",
        "  if do == \"TREE\":\n",
        "   print(\"It's a coconut tree! And you're thirsty!\") \n",
        "   print(\"Do you drink the coconut water? YES or NO.\")\n",
        "\n",
        " \n",
        "  do = input(\":: \")\n",
        "  if do == \"YES\":\n",
        "   print(\"Oh boy. Coconut water and raw crab don't mix.\")\n",
        "   print(\"You do not survive :(\") \n",
        "  elif do == \"NO\":\n",
        "   print(\"Good choice.\")\n",
        "   print(\"Look! It's a rescue plane! You made it! \\o/\") \n",
        "\n",
        "  elif do == \"NO\":\n",
        "   print(\"Well, there's nothing else left to eat.\")\n",
        "   print(\"You do not survive :(\") \n",
        "\n",
        "  elif do == \"RIGHT\": \n",
        "   print(\"No can do. That side is very slippery.\") \n",
        "   print(\"You fall very far into some weird cavern.\") \n",
        "   print(\"You do not survive :(\") \n",
        "\n",
        "  else: \n",
        "   print(\"You can only do actions shown in capital letters.\") \n",
        "   print(\"Try again!\") "
      ],
      "execution_count": 17,
      "outputs": [
        {
          "output_type": "stream",
          "text": [
            "You are on a deserted island in a 2D world.\n",
            "Try to survive until rescue arrives!\n",
            "Available commands are in CAPITAL letters.\n",
            "Any other command exits the program\n",
            "First LOOK around...\n",
            ":: LOOK\n",
            "You are stuck in a sand ditch.\n",
            "Crawl out LEFT or RIGHT.\n",
            ":: LEFT\n",
            "You see a STARFISH and a CRAB on the sand.\n",
            "And you're hungry! Which do you eat?\n",
            ":: CRAB\n",
            "Raw crab should be fine, right? YES or NO.\n",
            ":: YES\n",
            "Ok, You eat it raw. Fingers crossed.\n",
            "Food in your belly helps you see a TREE.\n",
            ":: TREE\n",
            "It's a coconut tree! And you're thirsty!\n",
            "Do you drink the coconut water? YES or NO.\n",
            ":: YES\n",
            "Oh boy. Coconut water and raw crab don't mix.\n",
            "You do not survive :(\n"
          ],
          "name": "stdout"
        }
      ]
    },
    {
      "cell_type": "code",
      "metadata": {
        "id": "d3CNZwmilJkZ",
        "colab_type": "code",
        "colab": {
          "base_uri": "https://localhost:8080/",
          "height": 85
        },
        "outputId": "9a8236a4-6336-4d8e-e041-f6ba30b12426"
      },
      "source": [
        "\n",
        "import random\n",
        "my = int(input(\"請出拳 [0] 剪⼑ [1] ⽯頭 [2] 布\"))\n",
        "print(\"我出拳為\", my)\n",
        "computer = random.randint(0, 2)\n",
        "print(\"電腦出拳為\", computer)\n",
        "if my == 0:\n",
        " if computer == 0:\n",
        "  print('平⼿')\n",
        " elif computer == 1:\n",
        "  print('電腦獲勝')\n",
        " else:\n",
        "  print('玩家獲勝')\n",
        "elif my == 1:\n",
        " if computer == 0:\n",
        "  print('玩家獲勝')\n",
        " elif computer == 1:\n",
        "  print('平⼿')\n",
        " else:\n",
        "  print('電腦獲勝')\n",
        "else:\n",
        " if computer == 1:\n",
        "  print('電腦獲勝')\n",
        " elif computer == 2:\n",
        "  print('玩家獲勝')\n",
        " else:\n",
        "  print('平⼿')\n",
        "  "
      ],
      "execution_count": 49,
      "outputs": [
        {
          "output_type": "stream",
          "text": [
            "請出拳 [0] 剪⼑ [1] ⽯頭 [2] 布1\n",
            "我出拳為 1\n",
            "電腦出拳為 2\n",
            "電腦獲勝\n"
          ],
          "name": "stdout"
        }
      ]
    },
    {
      "cell_type": "code",
      "metadata": {
        "id": "vGIYLvpkol83",
        "colab_type": "code",
        "colab": {
          "base_uri": "https://localhost:8080/",
          "height": 85
        },
        "outputId": "3eaf0191-a3ee-41bb-fd24-eaaa31e1adfd"
      },
      "source": [
        "import random\n",
        "my_choice = int(input(\"請出拳 [0] 蟲 [1] 雞 [2] 老虎 [3] 棒⼦\"))\n",
        "print(\"你出的拳:\", my_choice)\n",
        "com_choice = random.randint(0, 3)\n",
        "print(\"電腦出拳為\", com_choice)\n",
        "if my_choice == (com_choice + 1) % 4:\n",
        " print(\"我贏了\")\n",
        "elif com_choice == (my_choice + 1) % 4:\n",
        " print(\"電腦贏了\")\n",
        "else:\n",
        " print(\"平⼿\")\n"
      ],
      "execution_count": 51,
      "outputs": [
        {
          "output_type": "stream",
          "text": [
            "請出拳 [0] 蟲 [1] 雞 [2] 老虎 [3] 棒⼦1\n",
            "你出的拳: 1\n",
            "電腦出拳為 1\n",
            "平⼿\n"
          ],
          "name": "stdout"
        }
      ]
    },
    {
      "cell_type": "code",
      "metadata": {
        "id": "i2bfuRKxrgcb",
        "colab_type": "code",
        "colab": {}
      },
      "source": [
        "\n"
      ],
      "execution_count": 0,
      "outputs": []
    },
    {
      "cell_type": "code",
      "metadata": {
        "id": "M9-aq6Rdsuq6",
        "colab_type": "code",
        "colab": {}
      },
      "source": [
        ""
      ],
      "execution_count": 0,
      "outputs": []
    }
  ]
}