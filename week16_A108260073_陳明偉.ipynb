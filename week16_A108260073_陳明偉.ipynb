{
  "nbformat": 4,
  "nbformat_minor": 0,
  "metadata": {
    "colab": {
      "name": "week16-A108260073-陳明偉.ipynb",
      "provenance": [],
      "include_colab_link": true
    },
    "kernelspec": {
      "name": "python3",
      "display_name": "Python 3"
    }
  },
  "cells": [
    {
      "cell_type": "markdown",
      "metadata": {
        "id": "view-in-github",
        "colab_type": "text"
      },
      "source": [
        "<a href=\"https://colab.research.google.com/github/ric650/1.-Computational-Thinking-and-Program-Design/blob/master/week16_A108260073_%E9%99%B3%E6%98%8E%E5%81%89.ipynb\" target=\"_parent\"><img src=\"https://colab.research.google.com/assets/colab-badge.svg\" alt=\"Open In Colab\"/></a>"
      ]
    },
    {
      "cell_type": "code",
      "metadata": {
        "id": "l5V2GjAstNgU",
        "colab_type": "code",
        "colab": {
          "base_uri": "https://localhost:8080/",
          "height": 85
        },
        "outputId": "e56bfd90-81ee-4a88-ee22-3c4fb93a704a"
      },
      "source": [
        "answer=\"b246\"\n",
        "\n",
        "while True:\n",
        "  password=input(\"Enter your password?\")\n",
        "  if password==answer:\n",
        "    print(\"ENTER THE SYSTEM\")\n",
        "    break\n",
        "  else:\n",
        "    print(\"TRY Again\")"
      ],
      "execution_count": 7,
      "outputs": [
        {
          "output_type": "stream",
          "text": [
            "Enter your password?b246'\n",
            "TRY Again\n",
            "Enter your password?b246\n",
            "ENTER THE SYSTEM\n"
          ],
          "name": "stdout"
        }
      ]
    },
    {
      "cell_type": "code",
      "metadata": {
        "id": "R5lOblc1tm1r",
        "colab_type": "code",
        "colab": {
          "base_uri": "https://localhost:8080/",
          "height": 68
        },
        "outputId": "f86d489a-fa80-4792-f7b1-36de25549831"
      },
      "source": [
        "while True:\n",
        "    acc = input('請輸入帳號?')\n",
        "    pwd = input('請輸入密碼?')\n",
        "    if (acc == 'abc' and pwd == '123'):\n",
        "      print('帳號與密碼正確')\n",
        "    break\n",
        "else:\n",
        "      print('登入失敗')"
      ],
      "execution_count": 11,
      "outputs": [
        {
          "output_type": "stream",
          "text": [
            "請輸入帳號?abc\n",
            "請輸入密碼?123\n",
            "帳號與密碼正確\n"
          ],
          "name": "stdout"
        }
      ]
    },
    {
      "cell_type": "code",
      "metadata": {
        "id": "d6ZGyXyz0AGc",
        "colab_type": "code",
        "colab": {
          "base_uri": "https://localhost:8080/",
          "height": 102
        },
        "outputId": "696f214a-cc37-4295-fb9f-1d06fe85765c"
      },
      "source": [
        "for i in  range(5):\n",
        "  print(i)"
      ],
      "execution_count": 12,
      "outputs": [
        {
          "output_type": "stream",
          "text": [
            "0\n",
            "1\n",
            "2\n",
            "3\n",
            "4\n"
          ],
          "name": "stdout"
        }
      ]
    },
    {
      "cell_type": "code",
      "metadata": {
        "id": "Z-fbH6DK3m5s",
        "colab_type": "code",
        "colab": {
          "base_uri": "https://localhost:8080/",
          "height": 68
        },
        "outputId": "e95f6be4-928c-4837-c84b-98fe130bf304"
      },
      "source": [
        "for i in range(2,5):\n",
        "  print(i)"
      ],
      "execution_count": 13,
      "outputs": [
        {
          "output_type": "stream",
          "text": [
            "2\n",
            "3\n",
            "4\n"
          ],
          "name": "stdout"
        }
      ]
    },
    {
      "cell_type": "code",
      "metadata": {
        "id": "5SUV-N3-4vYG",
        "colab_type": "code",
        "colab": {
          "base_uri": "https://localhost:8080/",
          "height": 68
        },
        "outputId": "a8e5ed00-996c-46ad-f663-4b411ff829d3"
      },
      "source": [
        "for i in range(2,10,3):\n",
        "  print(i)"
      ],
      "execution_count": 14,
      "outputs": [
        {
          "output_type": "stream",
          "text": [
            "2\n",
            "5\n",
            "8\n"
          ],
          "name": "stdout"
        }
      ]
    },
    {
      "cell_type": "code",
      "metadata": {
        "id": "mD_s36TA439B",
        "colab_type": "code",
        "colab": {
          "base_uri": "https://localhost:8080/",
          "height": 136
        },
        "outputId": "3984d241-b373-431e-c7e2-b7a36fc7ff31"
      },
      "source": [
        "start=int(input(\"Enter a number?\"))\n",
        "end=int(input(\"enter a number?\"))\n",
        "step=int(input(\"enter a number?\"))\n",
        "sum=0\n",
        "\n",
        "for i in range(start,end,step):\n",
        "  sum=sum+i\n",
        "  print(\"i is\",i,\"sum equals\",sum)"
      ],
      "execution_count": 22,
      "outputs": [
        {
          "output_type": "stream",
          "text": [
            "Enter a number?3\n",
            "enter a number?13\n",
            "enter a number?3\n",
            "i is 3 sum equals 3\n",
            "i is 6 sum equals 9\n",
            "i is 9 sum equals 18\n",
            "i is 12 sum equals 30\n"
          ],
          "name": "stdout"
        }
      ]
    },
    {
      "cell_type": "code",
      "metadata": {
        "id": "DmX5z57y6I0f",
        "colab_type": "code",
        "colab": {}
      },
      "source": [
        ""
      ],
      "execution_count": 0,
      "outputs": []
    }
  ]
}